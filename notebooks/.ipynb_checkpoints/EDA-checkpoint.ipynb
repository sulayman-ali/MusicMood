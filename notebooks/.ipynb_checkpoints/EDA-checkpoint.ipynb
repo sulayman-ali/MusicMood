{
 "cells": [
  {
   "cell_type": "code",
   "execution_count": 1,
   "metadata": {},
   "outputs": [],
   "source": [
    "import pandas as pd\n",
    "import numpy as np\n",
    "import matplotlib.pyplot as plt\n",
    "import seaborn as sns\n",
    "import math\n",
    "from sklearn.pipeline import make_pipeline\n",
    "from sklearn import preprocessing\n",
    "from sklearn.svm import SVC\n",
    "from sklearn.model_selection import train_test_split, cross_val_score, StratifiedKFold\n",
    "from sklearn import metrics\n",
    "from sklearn.metrics import classification_report, confusion_matrix,mean_squared_error,plot_confusion_matrix\n",
    "from sklearn.ensemble import RandomForestClassifier\n",
    "from xgboost import XGBClassifier\n",
    "import os\n",
    "import math"
   ]
  },
  {
   "cell_type": "code",
   "execution_count": 20,
   "metadata": {},
   "outputs": [],
   "source": [
    "path = \"../data\"\n",
    "sentiment_frame = pd.read_csv(os.path.join(path,\"sentiment_analysis.csv\"))"
   ]
  },
  {
   "cell_type": "code",
   "execution_count": 22,
   "metadata": {},
   "outputs": [],
   "source": [
    "df = pd.read_csv(os.path.join(path,\"spotifyqueriesresults.csv\"),index_col = None).drop(\"Unnamed: 0\",axis =1)\n",
    "df = df.join(sentiment_frame[[\"preprocess_lyrics\",\"tb_Pol\",\"tb_Subj\",\"compound\",\"neg\",\"neu\",\"pos\"]])\n",
    "#prune bad lists\n",
    "df = df[df['playlist_id'] != \"44ihc7hk5ewgfWsy5x9QKL\"] \n",
    "df = df[df['playlist_id'] != \"5LjyNDmQhoODlJZaNV7fxj\"]\n",
    "df = df[df[\"playlist_id\"] != \"6s9wratabPxp4NwDZAbnwl\"]\n",
    "df = df[df[\"playlist_id\"] != \"69CBhCYkS3jzhmzRoghVWG\"]\n",
    "df = df[df[\"playlist_id\"] != \"4MRjoBGxVSA8JcBiJr6C3Y\"]\n",
    "df = df[df[\"playlist_id\"] != \"171HLt90V1fhorEJWF45VO\"]\n",
    "df = df[df[\"playlist_id\"] != \"4XHLVq8ke4mxKeZvqgJjNZ\"]\n",
    "df = df[df[\"playlist_id\"] != \"2fFSLnFhz5nem6mWRWEJaD\"]"
   ]
  },
  {
   "cell_type": "code",
   "execution_count": 17,
   "metadata": {},
   "outputs": [
    {
     "data": {
      "text/html": [
       "<div>\n",
       "<style scoped>\n",
       "    .dataframe tbody tr th:only-of-type {\n",
       "        vertical-align: middle;\n",
       "    }\n",
       "\n",
       "    .dataframe tbody tr th {\n",
       "        vertical-align: top;\n",
       "    }\n",
       "\n",
       "    .dataframe thead th {\n",
       "        text-align: right;\n",
       "    }\n",
       "</style>\n",
       "<table border=\"1\" class=\"dataframe\">\n",
       "  <thead>\n",
       "    <tr style=\"text-align: right;\">\n",
       "      <th></th>\n",
       "      <th>acousticness</th>\n",
       "      <th>danceability</th>\n",
       "      <th>energy</th>\n",
       "      <th>instrumentalness</th>\n",
       "      <th>key</th>\n",
       "      <th>loudness</th>\n",
       "      <th>mode</th>\n",
       "      <th>speechiness</th>\n",
       "      <th>tempo</th>\n",
       "      <th>valence</th>\n",
       "      <th>tb_Pol</th>\n",
       "      <th>tb_Subj</th>\n",
       "      <th>compound</th>\n",
       "      <th>neg</th>\n",
       "      <th>neu</th>\n",
       "      <th>pos</th>\n",
       "    </tr>\n",
       "    <tr>\n",
       "      <th>category</th>\n",
       "      <th></th>\n",
       "      <th></th>\n",
       "      <th></th>\n",
       "      <th></th>\n",
       "      <th></th>\n",
       "      <th></th>\n",
       "      <th></th>\n",
       "      <th></th>\n",
       "      <th></th>\n",
       "      <th></th>\n",
       "      <th></th>\n",
       "      <th></th>\n",
       "      <th></th>\n",
       "      <th></th>\n",
       "      <th></th>\n",
       "      <th></th>\n",
       "    </tr>\n",
       "  </thead>\n",
       "  <tbody>\n",
       "    <tr>\n",
       "      <th>joyful activation</th>\n",
       "      <td>0.168452</td>\n",
       "      <td>0.673130</td>\n",
       "      <td>0.711562</td>\n",
       "      <td>0.090740</td>\n",
       "      <td>5.498336</td>\n",
       "      <td>-6.984493</td>\n",
       "      <td>0.537438</td>\n",
       "      <td>0.112456</td>\n",
       "      <td>119.615384</td>\n",
       "      <td>0.536217</td>\n",
       "      <td>0.053640</td>\n",
       "      <td>0.480630</td>\n",
       "      <td>0.244080</td>\n",
       "      <td>0.134211</td>\n",
       "      <td>0.681598</td>\n",
       "      <td>0.184193</td>\n",
       "    </tr>\n",
       "    <tr>\n",
       "      <th>nostalgia</th>\n",
       "      <td>0.479898</td>\n",
       "      <td>0.555012</td>\n",
       "      <td>0.449560</td>\n",
       "      <td>0.217544</td>\n",
       "      <td>5.205546</td>\n",
       "      <td>-10.844982</td>\n",
       "      <td>0.693312</td>\n",
       "      <td>0.064300</td>\n",
       "      <td>115.925433</td>\n",
       "      <td>0.372304</td>\n",
       "      <td>0.079855</td>\n",
       "      <td>0.486460</td>\n",
       "      <td>0.384617</td>\n",
       "      <td>0.124854</td>\n",
       "      <td>0.665743</td>\n",
       "      <td>0.209428</td>\n",
       "    </tr>\n",
       "    <tr>\n",
       "      <th>peacefullness</th>\n",
       "      <td>0.679829</td>\n",
       "      <td>0.484904</td>\n",
       "      <td>0.284925</td>\n",
       "      <td>0.493209</td>\n",
       "      <td>5.140549</td>\n",
       "      <td>-16.803195</td>\n",
       "      <td>0.665590</td>\n",
       "      <td>0.065582</td>\n",
       "      <td>109.501991</td>\n",
       "      <td>0.279912</td>\n",
       "      <td>0.077604</td>\n",
       "      <td>0.484322</td>\n",
       "      <td>0.496039</td>\n",
       "      <td>0.120899</td>\n",
       "      <td>0.663764</td>\n",
       "      <td>0.215365</td>\n",
       "    </tr>\n",
       "    <tr>\n",
       "      <th>power</th>\n",
       "      <td>0.217689</td>\n",
       "      <td>0.623068</td>\n",
       "      <td>0.668679</td>\n",
       "      <td>0.104055</td>\n",
       "      <td>5.213365</td>\n",
       "      <td>-7.638308</td>\n",
       "      <td>0.630715</td>\n",
       "      <td>0.102970</td>\n",
       "      <td>121.651104</td>\n",
       "      <td>0.493260</td>\n",
       "      <td>0.066237</td>\n",
       "      <td>0.504239</td>\n",
       "      <td>0.292202</td>\n",
       "      <td>0.139268</td>\n",
       "      <td>0.657706</td>\n",
       "      <td>0.203008</td>\n",
       "    </tr>\n",
       "    <tr>\n",
       "      <th>sadness</th>\n",
       "      <td>0.404430</td>\n",
       "      <td>0.589158</td>\n",
       "      <td>0.507265</td>\n",
       "      <td>0.029341</td>\n",
       "      <td>5.296602</td>\n",
       "      <td>-8.320311</td>\n",
       "      <td>0.684114</td>\n",
       "      <td>0.086441</td>\n",
       "      <td>118.146968</td>\n",
       "      <td>0.348660</td>\n",
       "      <td>0.044376</td>\n",
       "      <td>0.528942</td>\n",
       "      <td>0.233212</td>\n",
       "      <td>0.167719</td>\n",
       "      <td>0.604403</td>\n",
       "      <td>0.227932</td>\n",
       "    </tr>\n",
       "    <tr>\n",
       "      <th>tenderness</th>\n",
       "      <td>0.408639</td>\n",
       "      <td>0.593442</td>\n",
       "      <td>0.480337</td>\n",
       "      <td>0.109199</td>\n",
       "      <td>5.104010</td>\n",
       "      <td>-8.967726</td>\n",
       "      <td>0.547619</td>\n",
       "      <td>0.087788</td>\n",
       "      <td>113.502149</td>\n",
       "      <td>0.368376</td>\n",
       "      <td>0.079764</td>\n",
       "      <td>0.497226</td>\n",
       "      <td>0.495318</td>\n",
       "      <td>0.125729</td>\n",
       "      <td>0.640691</td>\n",
       "      <td>0.233569</td>\n",
       "    </tr>\n",
       "    <tr>\n",
       "      <th>tension</th>\n",
       "      <td>0.183656</td>\n",
       "      <td>0.599337</td>\n",
       "      <td>0.708396</td>\n",
       "      <td>0.056457</td>\n",
       "      <td>5.171239</td>\n",
       "      <td>-6.524758</td>\n",
       "      <td>0.663198</td>\n",
       "      <td>0.108359</td>\n",
       "      <td>123.853668</td>\n",
       "      <td>0.484920</td>\n",
       "      <td>0.009153</td>\n",
       "      <td>0.523637</td>\n",
       "      <td>-0.042296</td>\n",
       "      <td>0.184954</td>\n",
       "      <td>0.633044</td>\n",
       "      <td>0.182017</td>\n",
       "    </tr>\n",
       "    <tr>\n",
       "      <th>transcendence</th>\n",
       "      <td>0.403627</td>\n",
       "      <td>0.506168</td>\n",
       "      <td>0.498595</td>\n",
       "      <td>0.233230</td>\n",
       "      <td>5.141631</td>\n",
       "      <td>-11.564384</td>\n",
       "      <td>0.644635</td>\n",
       "      <td>0.059453</td>\n",
       "      <td>115.233833</td>\n",
       "      <td>0.448944</td>\n",
       "      <td>0.087836</td>\n",
       "      <td>0.469204</td>\n",
       "      <td>0.411503</td>\n",
       "      <td>0.113696</td>\n",
       "      <td>0.680891</td>\n",
       "      <td>0.205387</td>\n",
       "    </tr>\n",
       "    <tr>\n",
       "      <th>wonder</th>\n",
       "      <td>0.220666</td>\n",
       "      <td>0.651592</td>\n",
       "      <td>0.660450</td>\n",
       "      <td>0.060559</td>\n",
       "      <td>5.260664</td>\n",
       "      <td>-6.736567</td>\n",
       "      <td>0.676935</td>\n",
       "      <td>0.083493</td>\n",
       "      <td>119.018748</td>\n",
       "      <td>0.554548</td>\n",
       "      <td>0.089127</td>\n",
       "      <td>0.494184</td>\n",
       "      <td>0.440387</td>\n",
       "      <td>0.128009</td>\n",
       "      <td>0.643928</td>\n",
       "      <td>0.226921</td>\n",
       "    </tr>\n",
       "  </tbody>\n",
       "</table>\n",
       "</div>"
      ],
      "text/plain": [
       "                   acousticness  danceability    energy  instrumentalness  \\\n",
       "category                                                                    \n",
       "joyful activation      0.168452      0.673130  0.711562          0.090740   \n",
       "nostalgia              0.479898      0.555012  0.449560          0.217544   \n",
       "peacefullness          0.679829      0.484904  0.284925          0.493209   \n",
       "power                  0.217689      0.623068  0.668679          0.104055   \n",
       "sadness                0.404430      0.589158  0.507265          0.029341   \n",
       "tenderness             0.408639      0.593442  0.480337          0.109199   \n",
       "tension                0.183656      0.599337  0.708396          0.056457   \n",
       "transcendence          0.403627      0.506168  0.498595          0.233230   \n",
       "wonder                 0.220666      0.651592  0.660450          0.060559   \n",
       "\n",
       "                        key   loudness      mode  speechiness       tempo  \\\n",
       "category                                                                    \n",
       "joyful activation  5.498336  -6.984493  0.537438     0.112456  119.615384   \n",
       "nostalgia          5.205546 -10.844982  0.693312     0.064300  115.925433   \n",
       "peacefullness      5.140549 -16.803195  0.665590     0.065582  109.501991   \n",
       "power              5.213365  -7.638308  0.630715     0.102970  121.651104   \n",
       "sadness            5.296602  -8.320311  0.684114     0.086441  118.146968   \n",
       "tenderness         5.104010  -8.967726  0.547619     0.087788  113.502149   \n",
       "tension            5.171239  -6.524758  0.663198     0.108359  123.853668   \n",
       "transcendence      5.141631 -11.564384  0.644635     0.059453  115.233833   \n",
       "wonder             5.260664  -6.736567  0.676935     0.083493  119.018748   \n",
       "\n",
       "                    valence    tb_Pol   tb_Subj  compound       neg       neu  \\\n",
       "category                                                                        \n",
       "joyful activation  0.536217  0.053640  0.480630  0.244080  0.134211  0.681598   \n",
       "nostalgia          0.372304  0.079855  0.486460  0.384617  0.124854  0.665743   \n",
       "peacefullness      0.279912  0.077604  0.484322  0.496039  0.120899  0.663764   \n",
       "power              0.493260  0.066237  0.504239  0.292202  0.139268  0.657706   \n",
       "sadness            0.348660  0.044376  0.528942  0.233212  0.167719  0.604403   \n",
       "tenderness         0.368376  0.079764  0.497226  0.495318  0.125729  0.640691   \n",
       "tension            0.484920  0.009153  0.523637 -0.042296  0.184954  0.633044   \n",
       "transcendence      0.448944  0.087836  0.469204  0.411503  0.113696  0.680891   \n",
       "wonder             0.554548  0.089127  0.494184  0.440387  0.128009  0.643928   \n",
       "\n",
       "                        pos  \n",
       "category                     \n",
       "joyful activation  0.184193  \n",
       "nostalgia          0.209428  \n",
       "peacefullness      0.215365  \n",
       "power              0.203008  \n",
       "sadness            0.227932  \n",
       "tenderness         0.233569  \n",
       "tension            0.182017  \n",
       "transcendence      0.205387  \n",
       "wonder             0.226921  "
      ]
     },
     "execution_count": 17,
     "metadata": {},
     "output_type": "execute_result"
    }
   ],
   "source": [
    "df.groupby(\"category\").mean()"
   ]
  },
  {
   "cell_type": "code",
   "execution_count": 161,
   "metadata": {},
   "outputs": [
    {
     "data": {
      "text/plain": [
       "(9894, 15)"
      ]
     },
     "execution_count": 161,
     "metadata": {},
     "output_type": "execute_result"
    }
   ],
   "source": [
    "df.shape"
   ]
  },
  {
   "cell_type": "markdown",
   "metadata": {},
   "source": [
    "## Baseline randomforest"
   ]
  },
  {
   "cell_type": "code",
   "execution_count": 162,
   "metadata": {},
   "outputs": [],
   "source": [
    "model_frame = df.drop([\"artist\",\"class\",\"playlist_id\",\"title\"],axis = 1)"
   ]
  },
  {
   "cell_type": "code",
   "execution_count": 163,
   "metadata": {},
   "outputs": [],
   "source": [
    "X = model_frame.drop(\"category\",axis =1)\n",
    "y = model_frame[\"category\"]"
   ]
  },
  {
   "cell_type": "code",
   "execution_count": 164,
   "metadata": {},
   "outputs": [],
   "source": [
    "X_train,X_test,y_train,y_test = train_test_split(X,y,test_size = 0.2)"
   ]
  },
  {
   "cell_type": "code",
   "execution_count": 64,
   "metadata": {},
   "outputs": [],
   "source": [
    "clf = RandomForestClassifier()"
   ]
  },
  {
   "cell_type": "code",
   "execution_count": 166,
   "metadata": {},
   "outputs": [
    {
     "data": {
      "text/plain": [
       "RandomForestClassifier()"
      ]
     },
     "execution_count": 166,
     "metadata": {},
     "output_type": "execute_result"
    }
   ],
   "source": [
    "clf.fit(X_train,y_train)"
   ]
  },
  {
   "cell_type": "code",
   "execution_count": 167,
   "metadata": {},
   "outputs": [],
   "source": [
    "y_pred = clf.predict(X_test)"
   ]
  },
  {
   "cell_type": "code",
   "execution_count": 168,
   "metadata": {},
   "outputs": [
    {
     "name": "stdout",
     "output_type": "stream",
     "text": [
      "                   precision    recall  f1-score   support\n",
      "\n",
      "joyful activation       0.41      0.43      0.42       255\n",
      "        nostalgia       0.29      0.27      0.28       256\n",
      "    peacefullness       0.56      0.52      0.54       260\n",
      "            power       0.19      0.12      0.14       173\n",
      "          sadness       0.28      0.36      0.31       196\n",
      "       tenderness       0.23      0.20      0.21       147\n",
      "          tension       0.31      0.28      0.29       202\n",
      "    transcendence       0.42      0.50      0.46       231\n",
      "           wonder       0.34      0.38      0.36       259\n",
      "\n",
      "         accuracy                           0.36      1979\n",
      "        macro avg       0.34      0.34      0.34      1979\n",
      "     weighted avg       0.35      0.36      0.35      1979\n",
      "\n"
     ]
    }
   ],
   "source": [
    "print(classification_report(y_test,y_pred))"
   ]
  },
  {
   "cell_type": "markdown",
   "metadata": {},
   "source": [
    "## Baseline XGBoost"
   ]
  },
  {
   "cell_type": "code",
   "execution_count": 169,
   "metadata": {},
   "outputs": [],
   "source": [
    "xgb = XGBClassifier()\n",
    "xgb.fit(X_train,y_train)\n",
    "y_pred = xgb.predict(X_test)"
   ]
  },
  {
   "cell_type": "code",
   "execution_count": 170,
   "metadata": {},
   "outputs": [
    {
     "name": "stdout",
     "output_type": "stream",
     "text": [
      "                   precision    recall  f1-score   support\n",
      "\n",
      "joyful activation       0.40      0.48      0.44       255\n",
      "        nostalgia       0.29      0.25      0.27       256\n",
      "    peacefullness       0.64      0.50      0.56       260\n",
      "            power       0.23      0.08      0.12       173\n",
      "          sadness       0.24      0.42      0.30       196\n",
      "       tenderness       0.30      0.15      0.20       147\n",
      "          tension       0.30      0.21      0.25       202\n",
      "    transcendence       0.42      0.52      0.46       231\n",
      "           wonder       0.32      0.40      0.35       259\n",
      "\n",
      "         accuracy                           0.35      1979\n",
      "        macro avg       0.35      0.34      0.33      1979\n",
      "     weighted avg       0.36      0.35      0.34      1979\n",
      "\n"
     ]
    }
   ],
   "source": [
    "print(classification_report(y_test,y_pred))"
   ]
  },
  {
   "cell_type": "markdown",
   "metadata": {},
   "source": [
    "## TF-IDF\n",
    "$w$ = $tf$ $\\times$ $log{\\frac{N}{docfreq}}$\n",
    "\n",
    "\"TF-IDF is a numerical statistic that is intended to reflect how important a word is to a document in a collection or corpus\"\n",
    "\n",
    "in our case,words are musicians and collections are playlist categories\n",
    "\n",
    "N = total playlists with label $j$\n",
    "\n",
    "tf = number of times artists $i$ is in playlist category $j$\n",
    "\n",
    "docfreq = number of playlists that have artist $i$"
   ]
  },
  {
   "cell_type": "code",
   "execution_count": 222,
   "metadata": {},
   "outputs": [],
   "source": [
    "categories = [\"wonder\",\"transcendence\",\"nostalgia\",\"tenderness\",\"peacefullness\",\"power\",\"joyful activation\",\"tension\",\"sadness\"]"
   ]
  },
  {
   "cell_type": "code",
   "execution_count": 261,
   "metadata": {},
   "outputs": [],
   "source": [
    "def tf_idf(artist,label):\n",
    "    tf = len(df[df.category == label ][df.artist == artist])\n",
    "    N = len(df[df.category == label ])\n",
    "    docfreq = len(df[df.artist == artist ])\n",
    "    \n",
    "    return tf * math.log(N/docfreq)"
   ]
  },
  {
   "cell_type": "code",
   "execution_count": 262,
   "metadata": {},
   "outputs": [],
   "source": [
    "def get_tf_idf_wonder(row):\n",
    "    return tf_idf(row[\"artist\"],\"wonder\")\n",
    "def get_tf_idf_transcendence(row):\n",
    "    return tf_idf(row[\"artist\"],\"transcendence\")\n",
    "def get_tf_idf_nostalgia(row):\n",
    "    return tf_idf(row[\"artist\"],\"nostalgia\")\n",
    "def get_tf_idf_tenderness(row):\n",
    "    return tf_idf(row[\"artist\"],\"tenderness\")\n",
    "def get_tf_idf_peacefullness(row):\n",
    "    return tf_idf(row[\"artist\"],\"peacefullness\")\n",
    "def get_tf_idf_power(row):\n",
    "    return tf_idf(row[\"artist\"],\"power\")\n",
    "def get_tf_idf_joy(row):\n",
    "    return tf_idf(row[\"artist\"],\"joyful activation\")\n",
    "def get_tf_idf_tension(row):\n",
    "    return tf_idf(row[\"artist\"],\"tension\")\n",
    "def get_tf_idf_sadness(row):\n",
    "    return tf_idf(row[\"artist\"],\"sadness\")"
   ]
  },
  {
   "cell_type": "code",
   "execution_count": 263,
   "metadata": {},
   "outputs": [],
   "source": [
    "df[\"tf_idf_wonder\"] = df.apply(get_tf_idf_wonder, axis = 1)\n",
    "df[\"tf_idf_transcendence\"] = df.apply(get_tf_idf_transcendence, axis = 1)\n",
    "df[\"tf_idf_nostalgia\"] = df.apply(get_tf_idf_nostalgia, axis = 1)\n",
    "df[\"tf_idf_tenderness\"] = df.apply(get_tf_idf_tenderness, axis = 1)\n",
    "df[\"tf_idf_peacefullness\"] = df.apply(get_tf_idf_peacefullness, axis = 1)\n",
    "df[\"tf_idf_power\"] = df.apply(get_tf_idf_power, axis = 1)\n",
    "df[\"tf_idf_joyful\"] = df.apply(get_tf_idf_joy, axis = 1)\n",
    "df[\"tf_idf_tension\"] = df.apply(get_tf_idf_tension, axis = 1)\n",
    "df[\"tf_idf_sadness\"] = df.apply(get_tf_idf_sadness, axis = 1)"
   ]
  },
  {
   "cell_type": "code",
   "execution_count": null,
   "metadata": {},
   "outputs": [],
   "source": [
    "df.to_csv(os.path.join(path,\"spotifyquerieswithtfidflabels.csv\"))"
   ]
  },
  {
   "cell_type": "markdown",
   "metadata": {},
   "source": [
    "## Modelling again"
   ]
  },
  {
   "cell_type": "code",
   "execution_count": 294,
   "metadata": {},
   "outputs": [],
   "source": [
    "# model_frame = df.drop([\"artist\",\"class\",\"playlist_id\",\"title\"],axis = 1)\n",
    "model_frame = df.drop([\"artist\",\"class\",\"playlist_id\",\"title\"],axis = 1).sample(len(model_frame))"
   ]
  },
  {
   "cell_type": "code",
   "execution_count": 296,
   "metadata": {},
   "outputs": [],
   "source": [
    "X = model_frame.drop(\"category\",axis =1)\n",
    "y = model_frame[\"category\"]\n",
    "X_train,X_test,y_train,y_test = train_test_split(X,y,test_size = 0.2)"
   ]
  },
  {
   "cell_type": "code",
   "execution_count": 297,
   "metadata": {},
   "outputs": [],
   "source": [
    "clf.fit(X_train,y_train)\n",
    "y_pred = clf.predict(X_test)"
   ]
  },
  {
   "cell_type": "code",
   "execution_count": 298,
   "metadata": {},
   "outputs": [
    {
     "name": "stdout",
     "output_type": "stream",
     "text": [
      "                   precision    recall  f1-score   support\n",
      "\n",
      "joyful activation       0.72      0.78      0.75       227\n",
      "        nostalgia       0.76      0.76      0.76       246\n",
      "    peacefullness       0.82      0.77      0.79       265\n",
      "            power       0.63      0.56      0.59       160\n",
      "          sadness       0.67      0.69      0.68       222\n",
      "       tenderness       0.69      0.67      0.68       183\n",
      "          tension       0.66      0.72      0.69       191\n",
      "    transcendence       0.83      0.83      0.83       214\n",
      "           wonder       0.71      0.69      0.70       271\n",
      "\n",
      "         accuracy                           0.73      1979\n",
      "        macro avg       0.72      0.72      0.72      1979\n",
      "     weighted avg       0.73      0.73      0.73      1979\n",
      "\n"
     ]
    }
   ],
   "source": [
    "print(classification_report(y_test,y_pred))"
   ]
  },
  {
   "cell_type": "code",
   "execution_count": 318,
   "metadata": {},
   "outputs": [
    {
     "data": {
      "text/plain": [
       "[Text(0, 0, ''),\n",
       " Text(0, 0, 'joyful activation'),\n",
       " Text(0, 0, 'nostalgia'),\n",
       " Text(0, 0, 'peacefullness'),\n",
       " Text(0, 0, 'power'),\n",
       " Text(0, 0, 'sadness'),\n",
       " Text(0, 0, 'tenderness'),\n",
       " Text(0, 0, 'tension'),\n",
       " Text(0, 0, 'transcendence'),\n",
       " Text(0, 0, 'wonder')]"
      ]
     },
     "execution_count": 318,
     "metadata": {},
     "output_type": "execute_result"
    },
    {
     "data": {
      "image/png": "[encoded data removed]",
      "text/plain": [
       "<Figure size 432x288 with 2 Axes>"
      ]
     },
     "metadata": {
      "needs_background": "light"
     },
     "output_type": "display_data"
    }
   ],
   "source": [
    "labels = ['joyful activation', 'nostalgia','peacefullness','power','sadness'\n",
    "         ,'tenderness','tension','transcendence','wonder']\n",
    "cm = confusion_matrix(y_test,y_pred,labels)\n",
    "fig = plt.figure()\n",
    "ax = fig.add_subplot(111)\n",
    "cax = ax.matshow(cm)\n",
    "fig.colorbar(cax)\n",
    "ax.set_xticklabels([''] + labels)\n",
    "ax.set_yticklabels([''] + labels)"
   ]
  },
  {
   "cell_type": "code",
   "execution_count": 329,
   "metadata": {},
   "outputs": [
    {
     "data": {
      "text/html": [
       "<div>\n",
       "<style scoped>\n",
       "    .dataframe tbody tr th:only-of-type {\n",
       "        vertical-align: middle;\n",
       "    }\n",
       "\n",
       "    .dataframe tbody tr th {\n",
       "        vertical-align: top;\n",
       "    }\n",
       "\n",
       "    .dataframe thead th {\n",
       "        text-align: right;\n",
       "    }\n",
       "</style>\n",
       "<table border=\"1\" class=\"dataframe\">\n",
       "  <thead>\n",
       "    <tr style=\"text-align: right;\">\n",
       "      <th></th>\n",
       "      <th>artist</th>\n",
       "      <th>title</th>\n",
       "      <th>prediction</th>\n",
       "      <th>category</th>\n",
       "    </tr>\n",
       "  </thead>\n",
       "  <tbody>\n",
       "    <tr>\n",
       "      <th>3150</th>\n",
       "      <td>fcj</td>\n",
       "      <td>same stars</td>\n",
       "      <td>tenderness</td>\n",
       "      <td>tenderness</td>\n",
       "    </tr>\n",
       "    <tr>\n",
       "      <th>2540</th>\n",
       "      <td>Sena Kana</td>\n",
       "      <td>Undisputed</td>\n",
       "      <td>tenderness</td>\n",
       "      <td>tenderness</td>\n",
       "    </tr>\n",
       "    <tr>\n",
       "      <th>2043</th>\n",
       "      <td>Timmies</td>\n",
       "      <td>Tell Me Why I'm Waiting</td>\n",
       "      <td>transcendence</td>\n",
       "      <td>transcendence</td>\n",
       "    </tr>\n",
       "    <tr>\n",
       "      <th>5259</th>\n",
       "      <td>Alex &amp; Sierra</td>\n",
       "      <td>Little Do You Know</td>\n",
       "      <td>peacefullness</td>\n",
       "      <td>peacefullness</td>\n",
       "    </tr>\n",
       "    <tr>\n",
       "      <th>2082</th>\n",
       "      <td>The Rolling Stones</td>\n",
       "      <td>Gimme Shelter</td>\n",
       "      <td>transcendence</td>\n",
       "      <td>transcendence</td>\n",
       "    </tr>\n",
       "    <tr>\n",
       "      <th>9066</th>\n",
       "      <td>Mariah Carey</td>\n",
       "      <td>One Sweet Day</td>\n",
       "      <td>sadness</td>\n",
       "      <td>sadness</td>\n",
       "    </tr>\n",
       "    <tr>\n",
       "      <th>1109</th>\n",
       "      <td>Jack Johnson</td>\n",
       "      <td>Upside Down</td>\n",
       "      <td>wonder</td>\n",
       "      <td>wonder</td>\n",
       "    </tr>\n",
       "    <tr>\n",
       "      <th>2533</th>\n",
       "      <td>Lyrica Anderson</td>\n",
       "      <td>Girls Have Fun</td>\n",
       "      <td>peacefullness</td>\n",
       "      <td>tenderness</td>\n",
       "    </tr>\n",
       "    <tr>\n",
       "      <th>4401</th>\n",
       "      <td>Take That</td>\n",
       "      <td>Patience</td>\n",
       "      <td>nostalgia</td>\n",
       "      <td>nostalgia</td>\n",
       "    </tr>\n",
       "    <tr>\n",
       "      <th>8335</th>\n",
       "      <td>Hardwell</td>\n",
       "      <td>Countdown - Original Mix</td>\n",
       "      <td>tension</td>\n",
       "      <td>tension</td>\n",
       "    </tr>\n",
       "    <tr>\n",
       "      <th>2622</th>\n",
       "      <td>Stormzy</td>\n",
       "      <td>Cigarettes &amp; Cush (feat. Kehlani &amp; Lily Allen)</td>\n",
       "      <td>tenderness</td>\n",
       "      <td>tenderness</td>\n",
       "    </tr>\n",
       "    <tr>\n",
       "      <th>7206</th>\n",
       "      <td>Yash Narvekar</td>\n",
       "      <td>Muqabla (From \"Street Dancer 3D\")</td>\n",
       "      <td>joyful activation</td>\n",
       "      <td>joyful activation</td>\n",
       "    </tr>\n",
       "    <tr>\n",
       "      <th>385</th>\n",
       "      <td>Khalid</td>\n",
       "      <td>8TEEN</td>\n",
       "      <td>wonder</td>\n",
       "      <td>wonder</td>\n",
       "    </tr>\n",
       "    <tr>\n",
       "      <th>8002</th>\n",
       "      <td>Bush</td>\n",
       "      <td>Machinehead</td>\n",
       "      <td>tension</td>\n",
       "      <td>tension</td>\n",
       "    </tr>\n",
       "    <tr>\n",
       "      <th>1369</th>\n",
       "      <td>Christine and the Queens</td>\n",
       "      <td>People, I've been sad</td>\n",
       "      <td>transcendence</td>\n",
       "      <td>transcendence</td>\n",
       "    </tr>\n",
       "    <tr>\n",
       "      <th>8425</th>\n",
       "      <td>Banda Som e Louvor</td>\n",
       "      <td>Ora Que a Vitória Vai Chegar - Ao Vivo</td>\n",
       "      <td>tension</td>\n",
       "      <td>tension</td>\n",
       "    </tr>\n",
       "    <tr>\n",
       "      <th>6969</th>\n",
       "      <td>Artifacts</td>\n",
       "      <td>The Ultimate (You Know the Time)</td>\n",
       "      <td>joyful activation</td>\n",
       "      <td>joyful activation</td>\n",
       "    </tr>\n",
       "    <tr>\n",
       "      <th>5793</th>\n",
       "      <td>Lil Baby</td>\n",
       "      <td>Heatin Up (feat. Gunna)</td>\n",
       "      <td>power</td>\n",
       "      <td>power</td>\n",
       "    </tr>\n",
       "    <tr>\n",
       "      <th>6003</th>\n",
       "      <td>Luke Faulkner</td>\n",
       "      <td>Clouds</td>\n",
       "      <td>power</td>\n",
       "      <td>power</td>\n",
       "    </tr>\n",
       "    <tr>\n",
       "      <th>2557</th>\n",
       "      <td>The Weeknd</td>\n",
       "      <td>Die For You</td>\n",
       "      <td>tenderness</td>\n",
       "      <td>tenderness</td>\n",
       "    </tr>\n",
       "    <tr>\n",
       "      <th>9342</th>\n",
       "      <td>Michael Bolton</td>\n",
       "      <td>How Am I Supposed to Live Without You</td>\n",
       "      <td>sadness</td>\n",
       "      <td>sadness</td>\n",
       "    </tr>\n",
       "    <tr>\n",
       "      <th>2553</th>\n",
       "      <td>Niykee Heaton</td>\n",
       "      <td>Bad Intentions</td>\n",
       "      <td>tenderness</td>\n",
       "      <td>tenderness</td>\n",
       "    </tr>\n",
       "    <tr>\n",
       "      <th>3445</th>\n",
       "      <td>Caitlyn Smith</td>\n",
       "      <td>Put Me Back Together</td>\n",
       "      <td>nostalgia</td>\n",
       "      <td>nostalgia</td>\n",
       "    </tr>\n",
       "    <tr>\n",
       "      <th>3613</th>\n",
       "      <td>James Ward</td>\n",
       "      <td>The Whiskey Never Whispers</td>\n",
       "      <td>nostalgia</td>\n",
       "      <td>nostalgia</td>\n",
       "    </tr>\n",
       "    <tr>\n",
       "      <th>4621</th>\n",
       "      <td>Rebecca St. James</td>\n",
       "      <td>Dawn</td>\n",
       "      <td>peacefullness</td>\n",
       "      <td>peacefullness</td>\n",
       "    </tr>\n",
       "  </tbody>\n",
       "</table>\n",
       "</div>"
      ],
      "text/plain": [
       "                        artist  \\\n",
       "3150                       fcj   \n",
       "2540                 Sena Kana   \n",
       "2043                   Timmies   \n",
       "5259             Alex & Sierra   \n",
       "2082        The Rolling Stones   \n",
       "9066              Mariah Carey   \n",
       "1109              Jack Johnson   \n",
       "2533           Lyrica Anderson   \n",
       "4401                 Take That   \n",
       "8335                  Hardwell   \n",
       "2622                   Stormzy   \n",
       "7206             Yash Narvekar   \n",
       "385                     Khalid   \n",
       "8002                      Bush   \n",
       "1369  Christine and the Queens   \n",
       "8425        Banda Som e Louvor   \n",
       "6969                 Artifacts   \n",
       "5793                  Lil Baby   \n",
       "6003             Luke Faulkner   \n",
       "2557                The Weeknd   \n",
       "9342            Michael Bolton   \n",
       "2553             Niykee Heaton   \n",
       "3445             Caitlyn Smith   \n",
       "3613                James Ward   \n",
       "4621         Rebecca St. James   \n",
       "\n",
       "                                               title         prediction  \\\n",
       "3150                                      same stars         tenderness   \n",
       "2540                                      Undisputed         tenderness   \n",
       "2043                         Tell Me Why I'm Waiting      transcendence   \n",
       "5259                              Little Do You Know      peacefullness   \n",
       "2082                                   Gimme Shelter      transcendence   \n",
       "9066                                   One Sweet Day            sadness   \n",
       "1109                                     Upside Down             wonder   \n",
       "2533                                  Girls Have Fun      peacefullness   \n",
       "4401                                        Patience          nostalgia   \n",
       "8335                        Countdown - Original Mix            tension   \n",
       "2622  Cigarettes & Cush (feat. Kehlani & Lily Allen)         tenderness   \n",
       "7206               Muqabla (From \"Street Dancer 3D\")  joyful activation   \n",
       "385                                            8TEEN             wonder   \n",
       "8002                                     Machinehead            tension   \n",
       "1369                           People, I've been sad      transcendence   \n",
       "8425          Ora Que a Vitória Vai Chegar - Ao Vivo            tension   \n",
       "6969                The Ultimate (You Know the Time)  joyful activation   \n",
       "5793                         Heatin Up (feat. Gunna)              power   \n",
       "6003                                          Clouds              power   \n",
       "2557                                     Die For You         tenderness   \n",
       "9342           How Am I Supposed to Live Without You            sadness   \n",
       "2553                                  Bad Intentions         tenderness   \n",
       "3445                            Put Me Back Together          nostalgia   \n",
       "3613                      The Whiskey Never Whispers          nostalgia   \n",
       "4621                                            Dawn      peacefullness   \n",
       "\n",
       "               category  \n",
       "3150         tenderness  \n",
       "2540         tenderness  \n",
       "2043      transcendence  \n",
       "5259      peacefullness  \n",
       "2082      transcendence  \n",
       "9066            sadness  \n",
       "1109             wonder  \n",
       "2533         tenderness  \n",
       "4401          nostalgia  \n",
       "8335            tension  \n",
       "2622         tenderness  \n",
       "7206  joyful activation  \n",
       "385              wonder  \n",
       "8002            tension  \n",
       "1369      transcendence  \n",
       "8425            tension  \n",
       "6969  joyful activation  \n",
       "5793              power  \n",
       "6003              power  \n",
       "2557         tenderness  \n",
       "9342            sadness  \n",
       "2553         tenderness  \n",
       "3445          nostalgia  \n",
       "3613          nostalgia  \n",
       "4621      peacefullness  "
      ]
     },
     "execution_count": 329,
     "metadata": {},
     "output_type": "execute_result"
    }
   ],
   "source": [
    "queries_tf_idf[[\"artist\",\"title\",\"prediction\",\"category\"]].sample(25)"
   ]
  },
  {
   "cell_type": "code",
   "execution_count": 278,
   "metadata": {},
   "outputs": [],
   "source": [
    "feature_list = X.columns\n",
    "importances = list(clf.feature_importances_)\n",
    "feature_importance = [(feature, round(importance,2)) for feature,importance in zip(feature_list,importances)] "
   ]
  },
  {
   "cell_type": "markdown",
   "metadata": {},
   "source": [
    "### Join sentiment with tf idf"
   ]
  },
  {
   "cell_type": "code",
   "execution_count": 51,
   "metadata": {},
   "outputs": [],
   "source": [
    "idf_sentiment_frame = pd.read_csv(os.path.join(path,\"spotifyquerieswithtfidflabels.csv\"))\n",
    "df = df.set_index(idf_sentiment_frame.index)"
   ]
  },
  {
   "cell_type": "code",
   "execution_count": 54,
   "metadata": {},
   "outputs": [],
   "source": [
    "idf_sentiment_frame = idf_sentiment_frame.join(df[[\"preprocess_lyrics\",\"tb_Pol\",\"tb_Subj\",\"compound\",\"neg\",\"neu\",\"pos\"]])"
   ]
  },
  {
   "cell_type": "markdown",
   "metadata": {},
   "source": [
    "modelling again"
   ]
  },
  {
   "cell_type": "code",
   "execution_count": 55,
   "metadata": {},
   "outputs": [
    {
     "data": {
      "text/plain": [
       "Unnamed: 0                int64\n",
       "acousticness            float64\n",
       "artist                   object\n",
       "class                    object\n",
       "danceability            float64\n",
       "energy                  float64\n",
       "instrumentalness        float64\n",
       "key                       int64\n",
       "loudness                float64\n",
       "mode                      int64\n",
       "playlist_id              object\n",
       "speechiness             float64\n",
       "tempo                   float64\n",
       "title                    object\n",
       "valence                 float64\n",
       "category                 object\n",
       "tf_idf_wonder           float64\n",
       "tf_idf_transcendence    float64\n",
       "tf_idf_nostalgia        float64\n",
       "tf_idf_tenderness       float64\n",
       "tf_idf_peacefullness    float64\n",
       "tf_idf_power            float64\n",
       "tf_idf_joyful           float64\n",
       "tf_idf_tension          float64\n",
       "tf_idf_sadness          float64\n",
       "preprocess_lyrics        object\n",
       "tb_Pol                  float64\n",
       "tb_Subj                 float64\n",
       "compound                float64\n",
       "neg                     float64\n",
       "neu                     float64\n",
       "pos                     float64\n",
       "dtype: object"
      ]
     },
     "execution_count": 55,
     "metadata": {},
     "output_type": "execute_result"
    }
   ],
   "source": [
    "idf_sentiment_frame.dtypes"
   ]
  },
  {
   "cell_type": "code",
   "execution_count": 57,
   "metadata": {},
   "outputs": [],
   "source": [
    "model_frame_2 = idf_sentiment_frame.drop([\"artist\",\"class\",\"playlist_id\",\"title\",\"preprocess_lyrics\",\"Unnamed: 0\"],axis = 1).sample(len(idf_sentiment_frame))"
   ]
  },
  {
   "cell_type": "code",
   "execution_count": 61,
   "metadata": {},
   "outputs": [],
   "source": [
    "#impute missing values\n",
    "model_frame_2 = model_frame_2.fillna(model_frame_2.mean())"
   ]
  },
  {
   "cell_type": "code",
   "execution_count": 62,
   "metadata": {},
   "outputs": [],
   "source": [
    "X = model_frame_2.drop(\"category\",axis =1)\n",
    "y = model_frame_2[\"category\"]\n",
    "X_train,X_test,y_train,y_test = train_test_split(X,y,test_size = 0.2)"
   ]
  },
  {
   "cell_type": "code",
   "execution_count": 65,
   "metadata": {},
   "outputs": [],
   "source": [
    "clf.fit(X_train,y_train)\n",
    "y_pred = clf.predict(X_test)"
   ]
  },
  {
   "cell_type": "code",
   "execution_count": 66,
   "metadata": {},
   "outputs": [
    {
     "name": "stdout",
     "output_type": "stream",
     "text": [
      "                   precision    recall  f1-score   support\n",
      "\n",
      "joyful activation       0.73      0.81      0.77       226\n",
      "        nostalgia       0.76      0.73      0.75       237\n",
      "    peacefullness       0.76      0.80      0.78       236\n",
      "            power       0.65      0.56      0.60       180\n",
      "          sadness       0.68      0.66      0.67       228\n",
      "       tenderness       0.59      0.64      0.61       144\n",
      "          tension       0.76      0.68      0.72       225\n",
      "    transcendence       0.84      0.82      0.83       257\n",
      "           wonder       0.67      0.72      0.69       246\n",
      "\n",
      "         accuracy                           0.72      1979\n",
      "        macro avg       0.72      0.71      0.71      1979\n",
      "     weighted avg       0.72      0.72      0.72      1979\n",
      "\n"
     ]
    }
   ],
   "source": [
    "print(classification_report(y_test,y_pred))"
   ]
  },
  {
   "cell_type": "code",
   "execution_count": 67,
   "metadata": {},
   "outputs": [],
   "source": [
    "feature_list = X.columns\n",
    "importances = list(clf.feature_importances_)\n",
    "feature_importance = [(feature, round(importance,2)) for feature,importance in zip(feature_list,importances)] "
   ]
  },
  {
   "cell_type": "code",
   "execution_count": 68,
   "metadata": {},
   "outputs": [
    {
     "data": {
      "text/plain": [
       "[('acousticness', 0.03),\n",
       " ('danceability', 0.03),\n",
       " ('energy', 0.03),\n",
       " ('instrumentalness', 0.02),\n",
       " ('key', 0.01),\n",
       " ('loudness', 0.03),\n",
       " ('mode', 0.0),\n",
       " ('speechiness', 0.03),\n",
       " ('tempo', 0.02),\n",
       " ('valence', 0.03),\n",
       " ('tf_idf_wonder', 0.08),\n",
       " ('tf_idf_transcendence', 0.09),\n",
       " ('tf_idf_nostalgia', 0.09),\n",
       " ('tf_idf_tenderness', 0.06),\n",
       " ('tf_idf_peacefullness', 0.08),\n",
       " ('tf_idf_power', 0.06),\n",
       " ('tf_idf_joyful', 0.09),\n",
       " ('tf_idf_tension', 0.07),\n",
       " ('tf_idf_sadness', 0.07),\n",
       " ('tb_Pol', 0.01),\n",
       " ('tb_Subj', 0.01),\n",
       " ('compound', 0.02),\n",
       " ('neg', 0.01),\n",
       " ('neu', 0.01),\n",
       " ('pos', 0.01)]"
      ]
     },
     "execution_count": 68,
     "metadata": {},
     "output_type": "execute_result"
    }
   ],
   "source": [
    "feature_importance"
   ]
  }
 ],
 "metadata": {
  "kernelspec": {
   "display_name": "Python 3",
   "language": "python",
   "name": "python3"
  },
  "language_info": {
   "codemirror_mode": {
    "name": "ipython",
    "version": 3
   },
   "file_extension": ".py",
   "mimetype": "text/x-python",
   "name": "python",
   "nbconvert_exporter": "python",
   "pygments_lexer": "ipython3",
   "version": "3.6.10"
  }
 },
 "nbformat": 4,
 "nbformat_minor": 4
}
