{
 "cells": [
  {
   "cell_type": "code",
   "execution_count": 22,
   "metadata": {},
   "outputs": [],
   "source": [
    "import pandas as pd\n",
    "import numpy as np\n",
    "import matplotlib.pyplot as plt\n",
    "import seaborn as sns\n",
    "import math\n",
    "from sklearn.pipeline import make_pipeline\n",
    "from sklearn import preprocessing\n",
    "from sklearn.svm import SVC\n",
    "from sklearn.model_selection import train_test_split, cross_val_score, StratifiedKFold\n",
    "from sklearn import metrics\n",
    "from sklearn.metrics import classification_report, confusion_matrix,mean_squared_error\n",
    "from sklearn.ensemble import RandomForestClassifier\n",
    "import os"
   ]
  },
  {
   "cell_type": "code",
   "execution_count": 3,
   "metadata": {},
   "outputs": [],
   "source": [
    "path = \"../data\""
   ]
  },
  {
   "cell_type": "code",
   "execution_count": 12,
   "metadata": {},
   "outputs": [],
   "source": [
    "df = pd.read_csv(os.path.join(path,\"spotifyqueriesresults.csv\"),index_col = None).drop(\"Unnamed: 0\",axis =1)"
   ]
  },
  {
   "cell_type": "code",
   "execution_count": 13,
   "metadata": {},
   "outputs": [
    {
     "data": {
      "text/html": [
       "<div>\n",
       "<style scoped>\n",
       "    .dataframe tbody tr th:only-of-type {\n",
       "        vertical-align: middle;\n",
       "    }\n",
       "\n",
       "    .dataframe tbody tr th {\n",
       "        vertical-align: top;\n",
       "    }\n",
       "\n",
       "    .dataframe thead th {\n",
       "        text-align: right;\n",
       "    }\n",
       "</style>\n",
       "<table border=\"1\" class=\"dataframe\">\n",
       "  <thead>\n",
       "    <tr style=\"text-align: right;\">\n",
       "      <th></th>\n",
       "      <th>acousticness</th>\n",
       "      <th>danceability</th>\n",
       "      <th>energy</th>\n",
       "      <th>instrumentalness</th>\n",
       "      <th>key</th>\n",
       "      <th>loudness</th>\n",
       "      <th>mode</th>\n",
       "      <th>speechiness</th>\n",
       "      <th>tempo</th>\n",
       "      <th>valence</th>\n",
       "    </tr>\n",
       "    <tr>\n",
       "      <th>category</th>\n",
       "      <th></th>\n",
       "      <th></th>\n",
       "      <th></th>\n",
       "      <th></th>\n",
       "      <th></th>\n",
       "      <th></th>\n",
       "      <th></th>\n",
       "      <th></th>\n",
       "      <th></th>\n",
       "      <th></th>\n",
       "    </tr>\n",
       "  </thead>\n",
       "  <tbody>\n",
       "    <tr>\n",
       "      <th>joyful activation</th>\n",
       "      <td>0.180035</td>\n",
       "      <td>0.664345</td>\n",
       "      <td>0.694500</td>\n",
       "      <td>0.083653</td>\n",
       "      <td>5.529013</td>\n",
       "      <td>-7.001051</td>\n",
       "      <td>0.532027</td>\n",
       "      <td>0.110526</td>\n",
       "      <td>119.468653</td>\n",
       "      <td>0.519891</td>\n",
       "    </tr>\n",
       "    <tr>\n",
       "      <th>nostalgia</th>\n",
       "      <td>0.469720</td>\n",
       "      <td>0.561393</td>\n",
       "      <td>0.454110</td>\n",
       "      <td>0.210555</td>\n",
       "      <td>5.203631</td>\n",
       "      <td>-10.738125</td>\n",
       "      <td>0.686661</td>\n",
       "      <td>0.067877</td>\n",
       "      <td>116.280880</td>\n",
       "      <td>0.371597</td>\n",
       "    </tr>\n",
       "    <tr>\n",
       "      <th>peacefullness</th>\n",
       "      <td>0.679829</td>\n",
       "      <td>0.484904</td>\n",
       "      <td>0.284925</td>\n",
       "      <td>0.493209</td>\n",
       "      <td>5.140549</td>\n",
       "      <td>-16.803195</td>\n",
       "      <td>0.665590</td>\n",
       "      <td>0.065582</td>\n",
       "      <td>109.501991</td>\n",
       "      <td>0.279912</td>\n",
       "    </tr>\n",
       "    <tr>\n",
       "      <th>power</th>\n",
       "      <td>0.217506</td>\n",
       "      <td>0.627859</td>\n",
       "      <td>0.662724</td>\n",
       "      <td>0.097844</td>\n",
       "      <td>5.196121</td>\n",
       "      <td>-7.594899</td>\n",
       "      <td>0.633621</td>\n",
       "      <td>0.105222</td>\n",
       "      <td>121.271582</td>\n",
       "      <td>0.491749</td>\n",
       "    </tr>\n",
       "    <tr>\n",
       "      <th>sadness</th>\n",
       "      <td>0.404430</td>\n",
       "      <td>0.589158</td>\n",
       "      <td>0.507265</td>\n",
       "      <td>0.029341</td>\n",
       "      <td>5.296602</td>\n",
       "      <td>-8.320311</td>\n",
       "      <td>0.684114</td>\n",
       "      <td>0.086441</td>\n",
       "      <td>118.146968</td>\n",
       "      <td>0.348660</td>\n",
       "    </tr>\n",
       "    <tr>\n",
       "      <th>tenderness</th>\n",
       "      <td>0.396266</td>\n",
       "      <td>0.597379</td>\n",
       "      <td>0.486002</td>\n",
       "      <td>0.106779</td>\n",
       "      <td>5.149522</td>\n",
       "      <td>-8.911364</td>\n",
       "      <td>0.549043</td>\n",
       "      <td>0.089847</td>\n",
       "      <td>114.084594</td>\n",
       "      <td>0.376336</td>\n",
       "    </tr>\n",
       "    <tr>\n",
       "      <th>tension</th>\n",
       "      <td>0.180047</td>\n",
       "      <td>0.604160</td>\n",
       "      <td>0.706699</td>\n",
       "      <td>0.053508</td>\n",
       "      <td>5.134168</td>\n",
       "      <td>-6.471290</td>\n",
       "      <td>0.653846</td>\n",
       "      <td>0.107523</td>\n",
       "      <td>123.787971</td>\n",
       "      <td>0.487690</td>\n",
       "    </tr>\n",
       "    <tr>\n",
       "      <th>transcendence</th>\n",
       "      <td>0.403627</td>\n",
       "      <td>0.506168</td>\n",
       "      <td>0.498595</td>\n",
       "      <td>0.233230</td>\n",
       "      <td>5.141631</td>\n",
       "      <td>-11.564384</td>\n",
       "      <td>0.644635</td>\n",
       "      <td>0.059453</td>\n",
       "      <td>115.233833</td>\n",
       "      <td>0.448944</td>\n",
       "    </tr>\n",
       "    <tr>\n",
       "      <th>wonder</th>\n",
       "      <td>0.216284</td>\n",
       "      <td>0.656309</td>\n",
       "      <td>0.658190</td>\n",
       "      <td>0.058842</td>\n",
       "      <td>5.242748</td>\n",
       "      <td>-6.717692</td>\n",
       "      <td>0.677863</td>\n",
       "      <td>0.088400</td>\n",
       "      <td>119.137156</td>\n",
       "      <td>0.549995</td>\n",
       "    </tr>\n",
       "  </tbody>\n",
       "</table>\n",
       "</div>"
      ],
      "text/plain": [
       "                   acousticness  danceability    energy  instrumentalness  \\\n",
       "category                                                                    \n",
       "joyful activation      0.180035      0.664345  0.694500          0.083653   \n",
       "nostalgia              0.469720      0.561393  0.454110          0.210555   \n",
       "peacefullness          0.679829      0.484904  0.284925          0.493209   \n",
       "power                  0.217506      0.627859  0.662724          0.097844   \n",
       "sadness                0.404430      0.589158  0.507265          0.029341   \n",
       "tenderness             0.396266      0.597379  0.486002          0.106779   \n",
       "tension                0.180047      0.604160  0.706699          0.053508   \n",
       "transcendence          0.403627      0.506168  0.498595          0.233230   \n",
       "wonder                 0.216284      0.656309  0.658190          0.058842   \n",
       "\n",
       "                        key   loudness      mode  speechiness       tempo  \\\n",
       "category                                                                    \n",
       "joyful activation  5.529013  -7.001051  0.532027     0.110526  119.468653   \n",
       "nostalgia          5.203631 -10.738125  0.686661     0.067877  116.280880   \n",
       "peacefullness      5.140549 -16.803195  0.665590     0.065582  109.501991   \n",
       "power              5.196121  -7.594899  0.633621     0.105222  121.271582   \n",
       "sadness            5.296602  -8.320311  0.684114     0.086441  118.146968   \n",
       "tenderness         5.149522  -8.911364  0.549043     0.089847  114.084594   \n",
       "tension            5.134168  -6.471290  0.653846     0.107523  123.787971   \n",
       "transcendence      5.141631 -11.564384  0.644635     0.059453  115.233833   \n",
       "wonder             5.242748  -6.717692  0.677863     0.088400  119.137156   \n",
       "\n",
       "                    valence  \n",
       "category                     \n",
       "joyful activation  0.519891  \n",
       "nostalgia          0.371597  \n",
       "peacefullness      0.279912  \n",
       "power              0.491749  \n",
       "sadness            0.348660  \n",
       "tenderness         0.376336  \n",
       "tension            0.487690  \n",
       "transcendence      0.448944  \n",
       "wonder             0.549995  "
      ]
     },
     "execution_count": 13,
     "metadata": {},
     "output_type": "execute_result"
    }
   ],
   "source": [
    "df.groupby(\"category\").mean()"
   ]
  },
  {
   "cell_type": "markdown",
   "metadata": {},
   "source": [
    "## Baseline randomforest"
   ]
  },
  {
   "cell_type": "code",
   "execution_count": 17,
   "metadata": {},
   "outputs": [],
   "source": [
    "model_frame = df.drop([\"artist\",\"class\",\"playlist_id\",\"title\"],axis = 1)"
   ]
  },
  {
   "cell_type": "code",
   "execution_count": 18,
   "metadata": {},
   "outputs": [],
   "source": [
    "X = model_frame.drop(\"category\",axis =1)\n",
    "y = model_frame[\"category\"]"
   ]
  },
  {
   "cell_type": "code",
   "execution_count": 19,
   "metadata": {},
   "outputs": [],
   "source": [
    "X_train,X_test,y_train,y_test = train_test_split(X,y,test_size = 0.2)"
   ]
  },
  {
   "cell_type": "code",
   "execution_count": 23,
   "metadata": {},
   "outputs": [],
   "source": [
    "clf = RandomForestClassifier()"
   ]
  },
  {
   "cell_type": "code",
   "execution_count": 24,
   "metadata": {},
   "outputs": [
    {
     "data": {
      "text/plain": [
       "RandomForestClassifier()"
      ]
     },
     "execution_count": 24,
     "metadata": {},
     "output_type": "execute_result"
    }
   ],
   "source": [
    "clf.fit(X_train,y_train)"
   ]
  },
  {
   "cell_type": "code",
   "execution_count": 25,
   "metadata": {},
   "outputs": [],
   "source": [
    "y_pred = clf.predict(X_test)"
   ]
  },
  {
   "cell_type": "code",
   "execution_count": 26,
   "metadata": {},
   "outputs": [
    {
     "name": "stdout",
     "output_type": "stream",
     "text": [
      "                   precision    recall  f1-score   support\n",
      "\n",
      "joyful activation       0.40      0.41      0.40       285\n",
      "        nostalgia       0.27      0.31      0.29       248\n",
      "    peacefullness       0.54      0.48      0.51       255\n",
      "            power       0.20      0.11      0.14       188\n",
      "          sadness       0.35      0.37      0.36       221\n",
      "       tenderness       0.23      0.19      0.21       145\n",
      "          tension       0.30      0.28      0.29       229\n",
      "    transcendence       0.40      0.45      0.42       222\n",
      "           wonder       0.30      0.37      0.33       263\n",
      "\n",
      "         accuracy                           0.34      2056\n",
      "        macro avg       0.33      0.33      0.33      2056\n",
      "     weighted avg       0.34      0.34      0.34      2056\n",
      "\n"
     ]
    }
   ],
   "source": [
    "print(classification_report(y_test,y_pred))"
   ]
  },
  {
   "cell_type": "markdown",
   "metadata": {},
   "source": [
    "## Baseline SVM"
   ]
  },
  {
   "cell_type": "code",
   "execution_count": 27,
   "metadata": {},
   "outputs": [],
   "source": [
    "svm = SVC()"
   ]
  },
  {
   "cell_type": "code",
   "execution_count": 28,
   "metadata": {},
   "outputs": [
    {
     "data": {
      "text/plain": [
       "SVC()"
      ]
     },
     "execution_count": 28,
     "metadata": {},
     "output_type": "execute_result"
    }
   ],
   "source": [
    "svm.fit(X_train,y_train)"
   ]
  },
  {
   "cell_type": "code",
   "execution_count": 29,
   "metadata": {},
   "outputs": [
    {
     "name": "stdout",
     "output_type": "stream",
     "text": [
      "                   precision    recall  f1-score   support\n",
      "\n",
      "joyful activation       0.19      0.73      0.30       285\n",
      "        nostalgia       0.18      0.31      0.23       248\n",
      "    peacefullness       0.54      0.40      0.46       255\n",
      "            power       0.00      0.00      0.00       188\n",
      "          sadness       0.00      0.00      0.00       221\n",
      "       tenderness       0.00      0.00      0.00       145\n",
      "          tension       0.15      0.11      0.13       229\n",
      "    transcendence       0.00      0.00      0.00       222\n",
      "           wonder       0.19      0.13      0.15       263\n",
      "\n",
      "         accuracy                           0.22      2056\n",
      "        macro avg       0.14      0.19      0.14      2056\n",
      "     weighted avg       0.16      0.22      0.16      2056\n",
      "\n"
     ]
    },
    {
     "name": "stderr",
     "output_type": "stream",
     "text": [
      "/anaconda3/lib/python3.6/site-packages/sklearn/metrics/_classification.py:1221: UndefinedMetricWarning: Precision and F-score are ill-defined and being set to 0.0 in labels with no predicted samples. Use `zero_division` parameter to control this behavior.\n",
      "  _warn_prf(average, modifier, msg_start, len(result))\n"
     ]
    }
   ],
   "source": [
    "y_pred = svm.predict(X_test)\n",
    "print(classification_report(y_test,y_pred))"
   ]
  },
  {
   "cell_type": "markdown",
   "metadata": {},
   "source": [
    "## TF-IDF\n"
   ]
  }
 ],
 "metadata": {
  "kernelspec": {
   "display_name": "Python 3",
   "language": "python",
   "name": "python3"
  },
  "language_info": {
   "codemirror_mode": {
    "name": "ipython",
    "version": 3
   },
   "file_extension": ".py",
   "mimetype": "text/x-python",
   "name": "python",
   "nbconvert_exporter": "python",
   "pygments_lexer": "ipython3",
   "version": "3.6.10"
  }
 },
 "nbformat": 4,
 "nbformat_minor": 4
}
