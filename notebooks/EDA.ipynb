{
 "cells": [
  {
   "cell_type": "code",
   "execution_count": 42,
   "metadata": {},
   "outputs": [],
   "source": [
    "import pandas as pd\n",
    "import numpy as np\n",
    "import matplotlib.pyplot as plt\n",
    "import seaborn as sns\n",
    "import math\n",
    "from sklearn.pipeline import make_pipeline\n",
    "from sklearn import preprocessing\n",
    "from sklearn.svm import SVC\n",
    "from sklearn.model_selection import train_test_split, cross_val_score, StratifiedKFold\n",
    "from sklearn import metrics\n",
    "from sklearn.metrics import classification_report, confusion_matrix,mean_squared_error\n",
    "from sklearn.ensemble import RandomForestClassifier\n",
    "from xgboost import XGBClassifier\n",
    "import os\n",
    "import math"
   ]
  },
  {
   "cell_type": "code",
   "execution_count": 3,
   "metadata": {},
   "outputs": [],
   "source": [
    "path = \"../data\""
   ]
  },
  {
   "cell_type": "code",
   "execution_count": 159,
   "metadata": {},
   "outputs": [],
   "source": [
    "df = pd.read_csv(os.path.join(path,\"spotifyqueriesresults.csv\"),index_col = None).drop(\"Unnamed: 0\",axis =1)\n",
    "#prune bad lists\n",
    "df = df[df['playlist_id'] != \"44ihc7hk5ewgfWsy5x9QKL\"] \n",
    "df = df[df['playlist_id'] != \"5LjyNDmQhoODlJZaNV7fxj\"]\n",
    "df = df[df[\"playlist_id\"] != \"6s9wratabPxp4NwDZAbnwl\"]\n",
    "df = df[df[\"playlist_id\"] != \"69CBhCYkS3jzhmzRoghVWG\"]\n",
    "df = df[df[\"playlist_id\"] != \"4MRjoBGxVSA8JcBiJr6C3Y\"]\n",
    "df = df[df[\"playlist_id\"] != \"171HLt90V1fhorEJWF45VO\"]\n",
    "df = df[df[\"playlist_id\"] != \"4XHLVq8ke4mxKeZvqgJjNZ\"]\n",
    "df = df[df[\"playlist_id\"] != \"2fFSLnFhz5nem6mWRWEJaD\"]"
   ]
  },
  {
   "cell_type": "code",
   "execution_count": 160,
   "metadata": {},
   "outputs": [
    {
     "data": {
      "text/html": [
       "<div>\n",
       "<style scoped>\n",
       "    .dataframe tbody tr th:only-of-type {\n",
       "        vertical-align: middle;\n",
       "    }\n",
       "\n",
       "    .dataframe tbody tr th {\n",
       "        vertical-align: top;\n",
       "    }\n",
       "\n",
       "    .dataframe thead th {\n",
       "        text-align: right;\n",
       "    }\n",
       "</style>\n",
       "<table border=\"1\" class=\"dataframe\">\n",
       "  <thead>\n",
       "    <tr style=\"text-align: right;\">\n",
       "      <th></th>\n",
       "      <th>acousticness</th>\n",
       "      <th>danceability</th>\n",
       "      <th>energy</th>\n",
       "      <th>instrumentalness</th>\n",
       "      <th>key</th>\n",
       "      <th>loudness</th>\n",
       "      <th>mode</th>\n",
       "      <th>speechiness</th>\n",
       "      <th>tempo</th>\n",
       "      <th>valence</th>\n",
       "    </tr>\n",
       "    <tr>\n",
       "      <th>category</th>\n",
       "      <th></th>\n",
       "      <th></th>\n",
       "      <th></th>\n",
       "      <th></th>\n",
       "      <th></th>\n",
       "      <th></th>\n",
       "      <th></th>\n",
       "      <th></th>\n",
       "      <th></th>\n",
       "      <th></th>\n",
       "    </tr>\n",
       "  </thead>\n",
       "  <tbody>\n",
       "    <tr>\n",
       "      <th>joyful activation</th>\n",
       "      <td>0.168452</td>\n",
       "      <td>0.673130</td>\n",
       "      <td>0.711562</td>\n",
       "      <td>0.090740</td>\n",
       "      <td>5.498336</td>\n",
       "      <td>-6.984493</td>\n",
       "      <td>0.537438</td>\n",
       "      <td>0.112456</td>\n",
       "      <td>119.615384</td>\n",
       "      <td>0.536217</td>\n",
       "    </tr>\n",
       "    <tr>\n",
       "      <th>nostalgia</th>\n",
       "      <td>0.479898</td>\n",
       "      <td>0.555012</td>\n",
       "      <td>0.449560</td>\n",
       "      <td>0.217544</td>\n",
       "      <td>5.205546</td>\n",
       "      <td>-10.844982</td>\n",
       "      <td>0.693312</td>\n",
       "      <td>0.064300</td>\n",
       "      <td>115.925433</td>\n",
       "      <td>0.372304</td>\n",
       "    </tr>\n",
       "    <tr>\n",
       "      <th>peacefullness</th>\n",
       "      <td>0.679829</td>\n",
       "      <td>0.484904</td>\n",
       "      <td>0.284925</td>\n",
       "      <td>0.493209</td>\n",
       "      <td>5.140549</td>\n",
       "      <td>-16.803195</td>\n",
       "      <td>0.665590</td>\n",
       "      <td>0.065582</td>\n",
       "      <td>109.501991</td>\n",
       "      <td>0.279912</td>\n",
       "    </tr>\n",
       "    <tr>\n",
       "      <th>power</th>\n",
       "      <td>0.217689</td>\n",
       "      <td>0.623068</td>\n",
       "      <td>0.668679</td>\n",
       "      <td>0.104055</td>\n",
       "      <td>5.213365</td>\n",
       "      <td>-7.638308</td>\n",
       "      <td>0.630715</td>\n",
       "      <td>0.102970</td>\n",
       "      <td>121.651104</td>\n",
       "      <td>0.493260</td>\n",
       "    </tr>\n",
       "    <tr>\n",
       "      <th>sadness</th>\n",
       "      <td>0.404430</td>\n",
       "      <td>0.589158</td>\n",
       "      <td>0.507265</td>\n",
       "      <td>0.029341</td>\n",
       "      <td>5.296602</td>\n",
       "      <td>-8.320311</td>\n",
       "      <td>0.684114</td>\n",
       "      <td>0.086441</td>\n",
       "      <td>118.146968</td>\n",
       "      <td>0.348660</td>\n",
       "    </tr>\n",
       "    <tr>\n",
       "      <th>tenderness</th>\n",
       "      <td>0.408639</td>\n",
       "      <td>0.593442</td>\n",
       "      <td>0.480337</td>\n",
       "      <td>0.109199</td>\n",
       "      <td>5.104010</td>\n",
       "      <td>-8.967726</td>\n",
       "      <td>0.547619</td>\n",
       "      <td>0.087788</td>\n",
       "      <td>113.502149</td>\n",
       "      <td>0.368376</td>\n",
       "    </tr>\n",
       "    <tr>\n",
       "      <th>tension</th>\n",
       "      <td>0.183656</td>\n",
       "      <td>0.599337</td>\n",
       "      <td>0.708396</td>\n",
       "      <td>0.056457</td>\n",
       "      <td>5.171239</td>\n",
       "      <td>-6.524758</td>\n",
       "      <td>0.663198</td>\n",
       "      <td>0.108359</td>\n",
       "      <td>123.853668</td>\n",
       "      <td>0.484920</td>\n",
       "    </tr>\n",
       "    <tr>\n",
       "      <th>transcendence</th>\n",
       "      <td>0.403627</td>\n",
       "      <td>0.506168</td>\n",
       "      <td>0.498595</td>\n",
       "      <td>0.233230</td>\n",
       "      <td>5.141631</td>\n",
       "      <td>-11.564384</td>\n",
       "      <td>0.644635</td>\n",
       "      <td>0.059453</td>\n",
       "      <td>115.233833</td>\n",
       "      <td>0.448944</td>\n",
       "    </tr>\n",
       "    <tr>\n",
       "      <th>wonder</th>\n",
       "      <td>0.220666</td>\n",
       "      <td>0.651592</td>\n",
       "      <td>0.660450</td>\n",
       "      <td>0.060559</td>\n",
       "      <td>5.260664</td>\n",
       "      <td>-6.736567</td>\n",
       "      <td>0.676935</td>\n",
       "      <td>0.083493</td>\n",
       "      <td>119.018748</td>\n",
       "      <td>0.554548</td>\n",
       "    </tr>\n",
       "  </tbody>\n",
       "</table>\n",
       "</div>"
      ],
      "text/plain": [
       "                   acousticness  danceability    energy  instrumentalness  \\\n",
       "category                                                                    \n",
       "joyful activation      0.168452      0.673130  0.711562          0.090740   \n",
       "nostalgia              0.479898      0.555012  0.449560          0.217544   \n",
       "peacefullness          0.679829      0.484904  0.284925          0.493209   \n",
       "power                  0.217689      0.623068  0.668679          0.104055   \n",
       "sadness                0.404430      0.589158  0.507265          0.029341   \n",
       "tenderness             0.408639      0.593442  0.480337          0.109199   \n",
       "tension                0.183656      0.599337  0.708396          0.056457   \n",
       "transcendence          0.403627      0.506168  0.498595          0.233230   \n",
       "wonder                 0.220666      0.651592  0.660450          0.060559   \n",
       "\n",
       "                        key   loudness      mode  speechiness       tempo  \\\n",
       "category                                                                    \n",
       "joyful activation  5.498336  -6.984493  0.537438     0.112456  119.615384   \n",
       "nostalgia          5.205546 -10.844982  0.693312     0.064300  115.925433   \n",
       "peacefullness      5.140549 -16.803195  0.665590     0.065582  109.501991   \n",
       "power              5.213365  -7.638308  0.630715     0.102970  121.651104   \n",
       "sadness            5.296602  -8.320311  0.684114     0.086441  118.146968   \n",
       "tenderness         5.104010  -8.967726  0.547619     0.087788  113.502149   \n",
       "tension            5.171239  -6.524758  0.663198     0.108359  123.853668   \n",
       "transcendence      5.141631 -11.564384  0.644635     0.059453  115.233833   \n",
       "wonder             5.260664  -6.736567  0.676935     0.083493  119.018748   \n",
       "\n",
       "                    valence  \n",
       "category                     \n",
       "joyful activation  0.536217  \n",
       "nostalgia          0.372304  \n",
       "peacefullness      0.279912  \n",
       "power              0.493260  \n",
       "sadness            0.348660  \n",
       "tenderness         0.368376  \n",
       "tension            0.484920  \n",
       "transcendence      0.448944  \n",
       "wonder             0.554548  "
      ]
     },
     "execution_count": 160,
     "metadata": {},
     "output_type": "execute_result"
    }
   ],
   "source": [
    "df.groupby(\"category\").mean()"
   ]
  },
  {
   "cell_type": "code",
   "execution_count": 161,
   "metadata": {},
   "outputs": [
    {
     "data": {
      "text/plain": [
       "(9894, 15)"
      ]
     },
     "execution_count": 161,
     "metadata": {},
     "output_type": "execute_result"
    }
   ],
   "source": [
    "df.shape"
   ]
  },
  {
   "cell_type": "markdown",
   "metadata": {},
   "source": [
    "## Baseline randomforest"
   ]
  },
  {
   "cell_type": "code",
   "execution_count": 162,
   "metadata": {},
   "outputs": [],
   "source": [
    "model_frame = df.drop([\"artist\",\"class\",\"playlist_id\",\"title\"],axis = 1)"
   ]
  },
  {
   "cell_type": "code",
   "execution_count": 163,
   "metadata": {},
   "outputs": [],
   "source": [
    "X = model_frame.drop(\"category\",axis =1)\n",
    "y = model_frame[\"category\"]"
   ]
  },
  {
   "cell_type": "code",
   "execution_count": 164,
   "metadata": {},
   "outputs": [],
   "source": [
    "X_train,X_test,y_train,y_test = train_test_split(X,y,test_size = 0.2)"
   ]
  },
  {
   "cell_type": "code",
   "execution_count": 165,
   "metadata": {},
   "outputs": [],
   "source": [
    "clf = RandomForestClassifier()"
   ]
  },
  {
   "cell_type": "code",
   "execution_count": 166,
   "metadata": {},
   "outputs": [
    {
     "data": {
      "text/plain": [
       "RandomForestClassifier()"
      ]
     },
     "execution_count": 166,
     "metadata": {},
     "output_type": "execute_result"
    }
   ],
   "source": [
    "clf.fit(X_train,y_train)"
   ]
  },
  {
   "cell_type": "code",
   "execution_count": 167,
   "metadata": {},
   "outputs": [],
   "source": [
    "y_pred = clf.predict(X_test)"
   ]
  },
  {
   "cell_type": "code",
   "execution_count": 168,
   "metadata": {},
   "outputs": [
    {
     "name": "stdout",
     "output_type": "stream",
     "text": [
      "                   precision    recall  f1-score   support\n",
      "\n",
      "joyful activation       0.41      0.43      0.42       255\n",
      "        nostalgia       0.29      0.27      0.28       256\n",
      "    peacefullness       0.56      0.52      0.54       260\n",
      "            power       0.19      0.12      0.14       173\n",
      "          sadness       0.28      0.36      0.31       196\n",
      "       tenderness       0.23      0.20      0.21       147\n",
      "          tension       0.31      0.28      0.29       202\n",
      "    transcendence       0.42      0.50      0.46       231\n",
      "           wonder       0.34      0.38      0.36       259\n",
      "\n",
      "         accuracy                           0.36      1979\n",
      "        macro avg       0.34      0.34      0.34      1979\n",
      "     weighted avg       0.35      0.36      0.35      1979\n",
      "\n"
     ]
    }
   ],
   "source": [
    "print(classification_report(y_test,y_pred))"
   ]
  },
  {
   "cell_type": "markdown",
   "metadata": {},
   "source": [
    "## Baseline XGBoost"
   ]
  },
  {
   "cell_type": "code",
   "execution_count": 169,
   "metadata": {},
   "outputs": [],
   "source": [
    "xgb = XGBClassifier()\n",
    "xgb.fit(X_train,y_train)\n",
    "y_pred = xgb.predict(X_test)"
   ]
  },
  {
   "cell_type": "code",
   "execution_count": 170,
   "metadata": {},
   "outputs": [
    {
     "name": "stdout",
     "output_type": "stream",
     "text": [
      "                   precision    recall  f1-score   support\n",
      "\n",
      "joyful activation       0.40      0.48      0.44       255\n",
      "        nostalgia       0.29      0.25      0.27       256\n",
      "    peacefullness       0.64      0.50      0.56       260\n",
      "            power       0.23      0.08      0.12       173\n",
      "          sadness       0.24      0.42      0.30       196\n",
      "       tenderness       0.30      0.15      0.20       147\n",
      "          tension       0.30      0.21      0.25       202\n",
      "    transcendence       0.42      0.52      0.46       231\n",
      "           wonder       0.32      0.40      0.35       259\n",
      "\n",
      "         accuracy                           0.35      1979\n",
      "        macro avg       0.35      0.34      0.33      1979\n",
      "     weighted avg       0.36      0.35      0.34      1979\n",
      "\n"
     ]
    }
   ],
   "source": [
    "print(classification_report(y_test,y_pred))"
   ]
  },
  {
   "cell_type": "markdown",
   "metadata": {},
   "source": [
    "## TF-IDF\n",
    "$w$ = $tf$ $\\times$ $log{\\frac{N}{docfreq}}$\n",
    "\n",
    "\"TF-IDF compares the number of times a word appears in a doc with the number of docs the word appears in\"\n",
    "\n",
    "in our case,words are musicians and docss are playlist categories\n",
    "\n",
    "N = total playlists with label $j$\n",
    "\n",
    "tf = number of times artists $i$ is in playlist category $j$\n",
    "\n",
    "docfreq = number of playlists that have artist $i$"
   ]
  },
  {
   "cell_type": "code",
   "execution_count": 222,
   "metadata": {},
   "outputs": [],
   "source": [
    "categories = [\"wonder\",\"transcendence\",\"nostalgia\",\"tenderness\",\"peacefullness\",\"power\",\"joyful activation\",\"tension\",\"sadness\"]"
   ]
  },
  {
   "cell_type": "code",
   "execution_count": 223,
   "metadata": {},
   "outputs": [],
   "source": [
    "def tf_idf(artist,label):\n",
    "    tf = len(df[df.category == label ][df.artist == artist])\n",
    "    N = len(df[df.category == label ])\n",
    "    docfreq = len(df[df.artist == artist ])\n",
    "    \n",
    "    return tf * math.log(N/docfreq)"
   ]
  },
  {
   "cell_type": "code",
   "execution_count": 233,
   "metadata": {},
   "outputs": [],
   "source": [
    "def get_tf_idf_wonder(row):\n",
    "    return tf_idf(row[\"artist\"],\"wonder\")\n",
    "def get_tf_idf_transcendence(row):\n",
    "    return tf_idf(row[\"artist\"],\"transcendence\")\n",
    "def get_tf_idf_nostalgia(row):\n",
    "    return tf_idf(row[\"artist\"],\"nostalgia\")\n",
    "def get_tf_idf_tenderness(row):\n",
    "    return tf_idf(row[\"artist\"],\"tenderness\")\n",
    "def get_tf_idf_peacefullness(row):\n",
    "    return tf_idf(row[\"artist\"],\"peacefullness\")\n",
    "def get_tf_idf_power(row):\n",
    "    return tf_idf(row[\"artist\"],\"power\")\n",
    "def get_tf_idf_joy(row):\n",
    "    return tf_idf(row[\"artist\"],\"joyful activation\")\n",
    "def get_tf_idf_tension(row):\n",
    "    return tf_idf(row[\"artist\"],\"tension\")\n",
    "def get_tf_idf_sadness(row):\n",
    "    return tf_idf(row[\"artist\"],\"sadness\")"
   ]
  },
  {
   "cell_type": "code",
   "execution_count": 225,
   "metadata": {},
   "outputs": [
    {
     "name": "stderr",
     "output_type": "stream",
     "text": [
      "/anaconda3/lib/python3.6/site-packages/ipykernel_launcher.py:2: UserWarning: Boolean Series key will be reindexed to match DataFrame index.\n",
      "  \n"
     ]
    }
   ],
   "source": [
    "df[\"tf_idf_wonder\"] = df.apply(get_tf_idf_wonder, axis = 1)"
   ]
  },
  {
   "cell_type": "code",
   "execution_count": 234,
   "metadata": {},
   "outputs": [
    {
     "name": "stderr",
     "output_type": "stream",
     "text": [
      "/anaconda3/lib/python3.6/site-packages/ipykernel_launcher.py:2: UserWarning: Boolean Series key will be reindexed to match DataFrame index.\n",
      "  \n"
     ]
    }
   ],
   "source": [
    "df[\"tf_idf_transcendence\"] = df.apply(get_tf_idf_transcendence, axis = 1)\n",
    "df[\"tf_idf_nostalgia\"] = df.apply(get_tf_idf_nostalgia, axis = 1)\n",
    "df[\"tf_idf_tenderness\"] = df.apply(get_tf_idf_tenderness, axis = 1)\n",
    "df[\"tf_idf_peacefullness\"] = df.apply(get_tf_idf_peacefullness, axis = 1)\n",
    "df[\"tf_idf_power\"] = df.apply(get_tf_idf_power, axis = 1)\n",
    "df[\"tf_idf_joyful\"] = df.apply(get_tf_idf_joy, axis = 1)\n",
    "df[\"tf_idf_tension\"] = df.apply(get_tf_idf_tension, axis = 1)\n",
    "df[\"tf_idf_sadness\"] = df.apply(get_tf_idf_sadness, axis = 1)"
   ]
  },
  {
   "cell_type": "code",
   "execution_count": 239,
   "metadata": {},
   "outputs": [],
   "source": [
    "df.to_csv(os.path.join(path,\"spotifyquerieswithtfidflabels.csv\"))"
   ]
  },
  {
   "cell_type": "markdown",
   "metadata": {},
   "source": [
    "## Modelling again"
   ]
  },
  {
   "cell_type": "code",
   "execution_count": 236,
   "metadata": {},
   "outputs": [],
   "source": [
    "model_frame = df.drop([\"artist\",\"class\",\"playlist_id\",\"title\"],axis = 1)"
   ]
  },
  {
   "cell_type": "code",
   "execution_count": 240,
   "metadata": {},
   "outputs": [],
   "source": [
    "X = model_frame.drop(\"category\",axis =1)\n",
    "y = model_frame[\"category\"]"
   ]
  },
  {
   "cell_type": "code",
   "execution_count": 241,
   "metadata": {},
   "outputs": [],
   "source": [
    "X_train,X_test,y_train,y_test = train_test_split(X,y,test_size = 0.2)"
   ]
  },
  {
   "cell_type": "code",
   "execution_count": 242,
   "metadata": {},
   "outputs": [],
   "source": [
    "clf.fit(X_train,y_train)\n",
    "y_pred = clf.predict(X_test)"
   ]
  },
  {
   "cell_type": "code",
   "execution_count": null,
   "metadata": {},
   "outputs": [],
   "source": [
    "print(class)"
   ]
  }
 ],
 "metadata": {
  "kernelspec": {
   "display_name": "Python 3",
   "language": "python",
   "name": "python3"
  },
  "language_info": {
   "codemirror_mode": {
    "name": "ipython",
    "version": 3
   },
   "file_extension": ".py",
   "mimetype": "text/x-python",
   "name": "python",
   "nbconvert_exporter": "python",
   "pygments_lexer": "ipython3",
   "version": "3.6.10"
  }
 },
 "nbformat": 4,
 "nbformat_minor": 4
}
